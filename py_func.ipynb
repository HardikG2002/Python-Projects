{
  "nbformat": 4,
  "nbformat_minor": 0,
  "metadata": {
    "colab": {
      "provenance": []
    },
    "kernelspec": {
      "name": "python3",
      "display_name": "Python 3"
    },
    "language_info": {
      "name": "python"
    }
  },
  "cells": [
    {
      "cell_type": "markdown",
      "source": [
        "Importing Pandas liberary"
      ],
      "metadata": {
        "id": "vxerchY68QGc"
      }
    },
    {
      "cell_type": "code",
      "source": [
        "import pandas as pd"
      ],
      "metadata": {
        "id": "nrT6K1pO8GmQ"
      },
      "execution_count": null,
      "outputs": []
    },
    {
      "cell_type": "markdown",
      "source": [
        "Class with Functions"
      ],
      "metadata": {
        "id": "3dnyi5JW8XBF"
      }
    },
    {
      "cell_type": "code",
      "execution_count": null,
      "metadata": {
        "id": "IdgsLPdG7L4n"
      },
      "outputs": [],
      "source": [
        "class mathfn:\n",
        "    def Min(self,list1, num):\n",
        "        min1 = list1[0]\n",
        "        for i in range(num):\n",
        "            if list1[i] < min1:\n",
        "                min1 = list1[i]\n",
        "        return(min1)\n",
        "    def Max(self, list1,num):\n",
        "        max1 = list1[0]\n",
        "        for i in range(num):\n",
        "            if list1[i] > max1:\n",
        "                max1 = list1[i]\n",
        "        return(max1)\n",
        "    def Fact(self, num):\n",
        "        fact = 1\n",
        "        for i in range(1, num+1):\n",
        "          fact = fact * i\n",
        "        return(fact)\n",
        "    def Sqrt(self, num):\n",
        "        num = num **0.5\n",
        "        return(num)\n",
        "    def abs(self, num):\n",
        "        if(num < 0):\n",
        "          num = num * -1\n",
        "          return(num)\n",
        "        else:\n",
        "          return(num)\n",
        "\n",
        "\n"
      ]
    },
    {
      "cell_type": "markdown",
      "source": [
        "Printing the table for user to choose the function"
      ],
      "metadata": {
        "id": "dwheW1QE80M0"
      }
    },
    {
      "cell_type": "code",
      "source": [
        "print(\"Choose a value for the given Functions: \")\n",
        "dict = {'Function': ['Min_number', 'Min_Number', 'Factorial', 'Square_Root', 'Absolute_Value']}\n",
        "df = pd.DataFrame(dict)\n",
        "display(df)"
      ],
      "metadata": {
        "colab": {
          "base_uri": "https://localhost:8080/",
          "height": 223
        },
        "id": "670PtueF7tUP",
        "outputId": "073ed5f9-e689-4f92-aacb-dec449c35513"
      },
      "execution_count": null,
      "outputs": [
        {
          "output_type": "stream",
          "name": "stdout",
          "text": [
            "Choose a value for the given Functions: \n"
          ]
        },
        {
          "output_type": "display_data",
          "data": {
            "text/plain": [
              "         Function\n",
              "0      Min_number\n",
              "1      Min_Number\n",
              "2       Factorial\n",
              "3     Square_Root\n",
              "4  Absolute_Value"
            ],
            "text/html": [
              "\n",
              "  <div id=\"df-c56e8a47-b58f-4159-aaed-d7f51f27a257\">\n",
              "    <div class=\"colab-df-container\">\n",
              "      <div>\n",
              "<style scoped>\n",
              "    .dataframe tbody tr th:only-of-type {\n",
              "        vertical-align: middle;\n",
              "    }\n",
              "\n",
              "    .dataframe tbody tr th {\n",
              "        vertical-align: top;\n",
              "    }\n",
              "\n",
              "    .dataframe thead th {\n",
              "        text-align: right;\n",
              "    }\n",
              "</style>\n",
              "<table border=\"1\" class=\"dataframe\">\n",
              "  <thead>\n",
              "    <tr style=\"text-align: right;\">\n",
              "      <th></th>\n",
              "      <th>Function</th>\n",
              "    </tr>\n",
              "  </thead>\n",
              "  <tbody>\n",
              "    <tr>\n",
              "      <th>0</th>\n",
              "      <td>Min_number</td>\n",
              "    </tr>\n",
              "    <tr>\n",
              "      <th>1</th>\n",
              "      <td>Min_Number</td>\n",
              "    </tr>\n",
              "    <tr>\n",
              "      <th>2</th>\n",
              "      <td>Factorial</td>\n",
              "    </tr>\n",
              "    <tr>\n",
              "      <th>3</th>\n",
              "      <td>Square_Root</td>\n",
              "    </tr>\n",
              "    <tr>\n",
              "      <th>4</th>\n",
              "      <td>Absolute_Value</td>\n",
              "    </tr>\n",
              "  </tbody>\n",
              "</table>\n",
              "</div>\n",
              "      <button class=\"colab-df-convert\" onclick=\"convertToInteractive('df-c56e8a47-b58f-4159-aaed-d7f51f27a257')\"\n",
              "              title=\"Convert this dataframe to an interactive table.\"\n",
              "              style=\"display:none;\">\n",
              "        \n",
              "  <svg xmlns=\"http://www.w3.org/2000/svg\" height=\"24px\"viewBox=\"0 0 24 24\"\n",
              "       width=\"24px\">\n",
              "    <path d=\"M0 0h24v24H0V0z\" fill=\"none\"/>\n",
              "    <path d=\"M18.56 5.44l.94 2.06.94-2.06 2.06-.94-2.06-.94-.94-2.06-.94 2.06-2.06.94zm-11 1L8.5 8.5l.94-2.06 2.06-.94-2.06-.94L8.5 2.5l-.94 2.06-2.06.94zm10 10l.94 2.06.94-2.06 2.06-.94-2.06-.94-.94-2.06-.94 2.06-2.06.94z\"/><path d=\"M17.41 7.96l-1.37-1.37c-.4-.4-.92-.59-1.43-.59-.52 0-1.04.2-1.43.59L10.3 9.45l-7.72 7.72c-.78.78-.78 2.05 0 2.83L4 21.41c.39.39.9.59 1.41.59.51 0 1.02-.2 1.41-.59l7.78-7.78 2.81-2.81c.8-.78.8-2.07 0-2.86zM5.41 20L4 18.59l7.72-7.72 1.47 1.35L5.41 20z\"/>\n",
              "  </svg>\n",
              "      </button>\n",
              "      \n",
              "  <style>\n",
              "    .colab-df-container {\n",
              "      display:flex;\n",
              "      flex-wrap:wrap;\n",
              "      gap: 12px;\n",
              "    }\n",
              "\n",
              "    .colab-df-convert {\n",
              "      background-color: #E8F0FE;\n",
              "      border: none;\n",
              "      border-radius: 50%;\n",
              "      cursor: pointer;\n",
              "      display: none;\n",
              "      fill: #1967D2;\n",
              "      height: 32px;\n",
              "      padding: 0 0 0 0;\n",
              "      width: 32px;\n",
              "    }\n",
              "\n",
              "    .colab-df-convert:hover {\n",
              "      background-color: #E2EBFA;\n",
              "      box-shadow: 0px 1px 2px rgba(60, 64, 67, 0.3), 0px 1px 3px 1px rgba(60, 64, 67, 0.15);\n",
              "      fill: #174EA6;\n",
              "    }\n",
              "\n",
              "    [theme=dark] .colab-df-convert {\n",
              "      background-color: #3B4455;\n",
              "      fill: #D2E3FC;\n",
              "    }\n",
              "\n",
              "    [theme=dark] .colab-df-convert:hover {\n",
              "      background-color: #434B5C;\n",
              "      box-shadow: 0px 1px 3px 1px rgba(0, 0, 0, 0.15);\n",
              "      filter: drop-shadow(0px 1px 2px rgba(0, 0, 0, 0.3));\n",
              "      fill: #FFFFFF;\n",
              "    }\n",
              "  </style>\n",
              "\n",
              "      <script>\n",
              "        const buttonEl =\n",
              "          document.querySelector('#df-c56e8a47-b58f-4159-aaed-d7f51f27a257 button.colab-df-convert');\n",
              "        buttonEl.style.display =\n",
              "          google.colab.kernel.accessAllowed ? 'block' : 'none';\n",
              "\n",
              "        async function convertToInteractive(key) {\n",
              "          const element = document.querySelector('#df-c56e8a47-b58f-4159-aaed-d7f51f27a257');\n",
              "          const dataTable =\n",
              "            await google.colab.kernel.invokeFunction('convertToInteractive',\n",
              "                                                     [key], {});\n",
              "          if (!dataTable) return;\n",
              "\n",
              "          const docLinkHtml = 'Like what you see? Visit the ' +\n",
              "            '<a target=\"_blank\" href=https://colab.research.google.com/notebooks/data_table.ipynb>data table notebook</a>'\n",
              "            + ' to learn more about interactive tables.';\n",
              "          element.innerHTML = '';\n",
              "          dataTable['output_type'] = 'display_data';\n",
              "          await google.colab.output.renderOutput(dataTable, element);\n",
              "          const docLink = document.createElement('div');\n",
              "          docLink.innerHTML = docLinkHtml;\n",
              "          element.appendChild(docLink);\n",
              "        }\n",
              "      </script>\n",
              "    </div>\n",
              "  </div>\n",
              "  "
            ]
          },
          "metadata": {}
        }
      ]
    },
    {
      "cell_type": "markdown",
      "source": [
        "Call functions"
      ],
      "metadata": {
        "id": "IEPTxFO1_Wi2"
      }
    },
    {
      "cell_type": "code",
      "source": [
        "number = int(input(\"Enter Value from the given List: \"))\n",
        "obj = mathfn()\n",
        "list1 = []\n",
        "if (number == 0):\n",
        "  num = int(input(\"Enter number of elements in list: \"))\n",
        "  for i in range(1, num + 1):\n",
        "    ele = int(input(\"Enter elements: \"))\n",
        "    list1.append(ele)\n",
        "  print(list1)\n",
        "  print(\"The Minimum Value is:\")\n",
        "  print(obj.Min(list1, num ))\n",
        "    \n",
        "elif(number == 1):\n",
        "    num = int(input(\"Enter number of elements in list: \"))\n",
        "    for i in range(1, num + 1):\n",
        "      ele= int(input(\"Enter elements: \"))\n",
        "      list1.append(ele)\n",
        "    print(list1)\n",
        "    print(\"The Maximum Value is:\")\n",
        "    print(obj.Max(list1, num ))\n",
        "    \n",
        "elif(number == 2):\n",
        "    num = int(input(\"Enter number: \"))\n",
        "    print(\"The Factorial is:\", obj.Fact(num))\n",
        "    \n",
        "elif(number == 3):\n",
        "    num = int(input(\"Enter number: \"))\n",
        "    print(\"The Square Root is:\", obj.Sqrt(num))\n",
        "    \n",
        "elif(number == 4):\n",
        "    num = int(input(\"Enter number: \"))\n",
        "    print(\"The Absolute value is:\", obj.abs(num))\n",
        "else:\n",
        "  print(\"INVALID Value!!!\")"
      ],
      "metadata": {
        "colab": {
          "base_uri": "https://localhost:8080/"
        },
        "id": "PEKrfcBG9dsc",
        "outputId": "a9c23d79-895d-4c0c-ade8-76ebc3d4f5ee"
      },
      "execution_count": null,
      "outputs": [
        {
          "output_type": "stream",
          "name": "stdout",
          "text": [
            "Enter Value from the given List: 4\n",
            "Enter number: 78\n",
            "The Absolute value is: 78\n"
          ]
        }
      ]
    }
  ]
}